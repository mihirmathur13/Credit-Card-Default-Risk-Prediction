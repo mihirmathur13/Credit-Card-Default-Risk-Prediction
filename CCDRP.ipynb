{
 "cells": [
  {
   "cell_type": "markdown",
   "id": "339b201a-620f-4be1-955a-dd3a5641c8e8",
   "metadata": {},
   "source": [
    "# Importing Libraries"
   ]
  },
  {
   "cell_type": "code",
   "execution_count": 6,
   "id": "d49f9a8b-f5d3-4806-b550-4220901a7a06",
   "metadata": {},
   "outputs": [],
   "source": [
    "import pandas as pd\n",
    "import numpy as np\n",
    "import matplotlib.pyplot as plt\n",
    "import seaborn as sns"
   ]
  },
  {
   "cell_type": "code",
   "execution_count": 7,
   "id": "60db30fe-feac-47aa-a203-b136cf7137d7",
   "metadata": {},
   "outputs": [],
   "source": [
    "from sklearn.preprocessing import StandardScaler\n",
    "from sklearn.model_selection import train_test_split\n",
    "from sklearn.metrics import roc_curve, auc, classification_report\n",
    "from imblearn.over_sampling import SMOTE\n",
    "import warnings\n",
    "warnings.filterwarnings('ignore')"
   ]
  },
  {
   "cell_type": "markdown",
   "id": "e58d2b19-0ff2-4409-822f-ca88fef7db34",
   "metadata": {},
   "source": [
    "# Reading Files"
   ]
  },
  {
   "cell_type": "code",
   "execution_count": 8,
   "id": "c0d18762-6d52-4cb0-abbb-698d685ff485",
   "metadata": {},
   "outputs": [],
   "source": [
    "df = pd.read_csv('Dev_data_to_be_shared.csv')"
   ]
  },
  {
   "cell_type": "code",
   "execution_count": 9,
   "id": "0d77da4b-329a-476b-ba33-7d8b53d31fc1",
   "metadata": {},
   "outputs": [],
   "source": [
    "df_val=pd.read_csv('validation_data_to_be_shared.csv')"
   ]
  },
  {
   "cell_type": "markdown",
   "id": "b6ef32da-f179-4745-9c4c-5c32d76f6ecc",
   "metadata": {},
   "source": [
    "# Getting Overview"
   ]
  },
  {
   "cell_type": "code",
   "execution_count": 10,
   "id": "ec50bdda-a54f-425b-85f1-954c44e589c8",
   "metadata": {},
   "outputs": [
    {
     "data": {
      "text/html": [
       "<div>\n",
       "<style scoped>\n",
       "    .dataframe tbody tr th:only-of-type {\n",
       "        vertical-align: middle;\n",
       "    }\n",
       "\n",
       "    .dataframe tbody tr th {\n",
       "        vertical-align: top;\n",
       "    }\n",
       "\n",
       "    .dataframe thead th {\n",
       "        text-align: right;\n",
       "    }\n",
       "</style>\n",
       "<table border=\"1\" class=\"dataframe\">\n",
       "  <thead>\n",
       "    <tr style=\"text-align: right;\">\n",
       "      <th></th>\n",
       "      <th>account_number</th>\n",
       "      <th>bad_flag</th>\n",
       "      <th>onus_attribute_1</th>\n",
       "      <th>transaction_attribute_1</th>\n",
       "      <th>transaction_attribute_2</th>\n",
       "      <th>transaction_attribute_3</th>\n",
       "      <th>transaction_attribute_4</th>\n",
       "      <th>transaction_attribute_5</th>\n",
       "      <th>transaction_attribute_6</th>\n",
       "      <th>transaction_attribute_7</th>\n",
       "      <th>...</th>\n",
       "      <th>bureau_enquiry_47</th>\n",
       "      <th>bureau_enquiry_48</th>\n",
       "      <th>bureau_enquiry_49</th>\n",
       "      <th>bureau_enquiry_50</th>\n",
       "      <th>onus_attribute_43</th>\n",
       "      <th>onus_attribute_44</th>\n",
       "      <th>onus_attribute_45</th>\n",
       "      <th>onus_attribute_46</th>\n",
       "      <th>onus_attribute_47</th>\n",
       "      <th>onus_attribute_48</th>\n",
       "    </tr>\n",
       "  </thead>\n",
       "  <tbody>\n",
       "    <tr>\n",
       "      <th>0</th>\n",
       "      <td>1</td>\n",
       "      <td>0</td>\n",
       "      <td>NaN</td>\n",
       "      <td>NaN</td>\n",
       "      <td>NaN</td>\n",
       "      <td>NaN</td>\n",
       "      <td>NaN</td>\n",
       "      <td>NaN</td>\n",
       "      <td>NaN</td>\n",
       "      <td>NaN</td>\n",
       "      <td>...</td>\n",
       "      <td>0.0</td>\n",
       "      <td>0.0</td>\n",
       "      <td>0.0</td>\n",
       "      <td>1.0</td>\n",
       "      <td>NaN</td>\n",
       "      <td>NaN</td>\n",
       "      <td>NaN</td>\n",
       "      <td>NaN</td>\n",
       "      <td>NaN</td>\n",
       "      <td>NaN</td>\n",
       "    </tr>\n",
       "    <tr>\n",
       "      <th>1</th>\n",
       "      <td>2</td>\n",
       "      <td>0</td>\n",
       "      <td>221000.0</td>\n",
       "      <td>0.0</td>\n",
       "      <td>0.0</td>\n",
       "      <td>0.0</td>\n",
       "      <td>0.0</td>\n",
       "      <td>0.0</td>\n",
       "      <td>0.0</td>\n",
       "      <td>0.0</td>\n",
       "      <td>...</td>\n",
       "      <td>0.0</td>\n",
       "      <td>0.0</td>\n",
       "      <td>2.0</td>\n",
       "      <td>3.0</td>\n",
       "      <td>0.0</td>\n",
       "      <td>0.0</td>\n",
       "      <td>0.0</td>\n",
       "      <td>0.0</td>\n",
       "      <td>0.0</td>\n",
       "      <td>0.0</td>\n",
       "    </tr>\n",
       "    <tr>\n",
       "      <th>2</th>\n",
       "      <td>3</td>\n",
       "      <td>0</td>\n",
       "      <td>25000.0</td>\n",
       "      <td>0.0</td>\n",
       "      <td>0.0</td>\n",
       "      <td>0.0</td>\n",
       "      <td>0.0</td>\n",
       "      <td>0.0</td>\n",
       "      <td>0.0</td>\n",
       "      <td>0.0</td>\n",
       "      <td>...</td>\n",
       "      <td>0.0</td>\n",
       "      <td>0.0</td>\n",
       "      <td>0.0</td>\n",
       "      <td>8.0</td>\n",
       "      <td>NaN</td>\n",
       "      <td>NaN</td>\n",
       "      <td>NaN</td>\n",
       "      <td>NaN</td>\n",
       "      <td>NaN</td>\n",
       "      <td>NaN</td>\n",
       "    </tr>\n",
       "    <tr>\n",
       "      <th>3</th>\n",
       "      <td>4</td>\n",
       "      <td>0</td>\n",
       "      <td>86000.0</td>\n",
       "      <td>0.0</td>\n",
       "      <td>0.0</td>\n",
       "      <td>0.0</td>\n",
       "      <td>0.0</td>\n",
       "      <td>0.0</td>\n",
       "      <td>0.0</td>\n",
       "      <td>0.0</td>\n",
       "      <td>...</td>\n",
       "      <td>0.0</td>\n",
       "      <td>0.0</td>\n",
       "      <td>0.0</td>\n",
       "      <td>30.0</td>\n",
       "      <td>NaN</td>\n",
       "      <td>NaN</td>\n",
       "      <td>NaN</td>\n",
       "      <td>NaN</td>\n",
       "      <td>NaN</td>\n",
       "      <td>NaN</td>\n",
       "    </tr>\n",
       "    <tr>\n",
       "      <th>4</th>\n",
       "      <td>5</td>\n",
       "      <td>0</td>\n",
       "      <td>215000.0</td>\n",
       "      <td>0.0</td>\n",
       "      <td>0.0</td>\n",
       "      <td>0.0</td>\n",
       "      <td>0.0</td>\n",
       "      <td>0.0</td>\n",
       "      <td>0.0</td>\n",
       "      <td>0.0</td>\n",
       "      <td>...</td>\n",
       "      <td>0.0</td>\n",
       "      <td>0.0</td>\n",
       "      <td>0.0</td>\n",
       "      <td>1.0</td>\n",
       "      <td>NaN</td>\n",
       "      <td>NaN</td>\n",
       "      <td>NaN</td>\n",
       "      <td>NaN</td>\n",
       "      <td>NaN</td>\n",
       "      <td>NaN</td>\n",
       "    </tr>\n",
       "  </tbody>\n",
       "</table>\n",
       "<p>5 rows × 1216 columns</p>\n",
       "</div>"
      ],
      "text/plain": [
       "   account_number  bad_flag  onus_attribute_1  transaction_attribute_1  \\\n",
       "0               1         0               NaN                      NaN   \n",
       "1               2         0          221000.0                      0.0   \n",
       "2               3         0           25000.0                      0.0   \n",
       "3               4         0           86000.0                      0.0   \n",
       "4               5         0          215000.0                      0.0   \n",
       "\n",
       "   transaction_attribute_2  transaction_attribute_3  transaction_attribute_4  \\\n",
       "0                      NaN                      NaN                      NaN   \n",
       "1                      0.0                      0.0                      0.0   \n",
       "2                      0.0                      0.0                      0.0   \n",
       "3                      0.0                      0.0                      0.0   \n",
       "4                      0.0                      0.0                      0.0   \n",
       "\n",
       "   transaction_attribute_5  transaction_attribute_6  transaction_attribute_7  \\\n",
       "0                      NaN                      NaN                      NaN   \n",
       "1                      0.0                      0.0                      0.0   \n",
       "2                      0.0                      0.0                      0.0   \n",
       "3                      0.0                      0.0                      0.0   \n",
       "4                      0.0                      0.0                      0.0   \n",
       "\n",
       "   ...  bureau_enquiry_47  bureau_enquiry_48  bureau_enquiry_49  \\\n",
       "0  ...                0.0                0.0                0.0   \n",
       "1  ...                0.0                0.0                2.0   \n",
       "2  ...                0.0                0.0                0.0   \n",
       "3  ...                0.0                0.0                0.0   \n",
       "4  ...                0.0                0.0                0.0   \n",
       "\n",
       "   bureau_enquiry_50  onus_attribute_43  onus_attribute_44  onus_attribute_45  \\\n",
       "0                1.0                NaN                NaN                NaN   \n",
       "1                3.0                0.0                0.0                0.0   \n",
       "2                8.0                NaN                NaN                NaN   \n",
       "3               30.0                NaN                NaN                NaN   \n",
       "4                1.0                NaN                NaN                NaN   \n",
       "\n",
       "   onus_attribute_46  onus_attribute_47  onus_attribute_48  \n",
       "0                NaN                NaN                NaN  \n",
       "1                0.0                0.0                0.0  \n",
       "2                NaN                NaN                NaN  \n",
       "3                NaN                NaN                NaN  \n",
       "4                NaN                NaN                NaN  \n",
       "\n",
       "[5 rows x 1216 columns]"
      ]
     },
     "execution_count": 10,
     "metadata": {},
     "output_type": "execute_result"
    }
   ],
   "source": [
    "df.head()"
   ]
  },
  {
   "cell_type": "code",
   "execution_count": 11,
   "id": "be3857c6-16f4-4ef1-b565-536c0935836e",
   "metadata": {},
   "outputs": [
    {
     "name": "stdout",
     "output_type": "stream",
     "text": [
      "<class 'pandas.core.frame.DataFrame'>\n",
      "RangeIndex: 96806 entries, 0 to 96805\n",
      "Columns: 1216 entries, account_number to onus_attribute_48\n",
      "dtypes: float64(1189), int64(27)\n",
      "memory usage: 898.1 MB\n"
     ]
    },
    {
     "data": {
      "text/plain": [
       "(96806, 1216)"
      ]
     },
     "execution_count": 11,
     "metadata": {},
     "output_type": "execute_result"
    }
   ],
   "source": [
    "df.info()\n",
    "df.shape"
   ]
  },
  {
   "cell_type": "code",
   "execution_count": 12,
   "id": "cfa0ddc8-f082-42b2-9370-fae075b7be0b",
   "metadata": {},
   "outputs": [
    {
     "data": {
      "text/plain": [
       "account_number                 0\n",
       "bad_flag                       0\n",
       "onus_attribute_1           25231\n",
       "transaction_attribute_1    25231\n",
       "transaction_attribute_2    25231\n",
       "                           ...  \n",
       "onus_attribute_44          85196\n",
       "onus_attribute_45          85196\n",
       "onus_attribute_46          85196\n",
       "onus_attribute_47          85196\n",
       "onus_attribute_48          85196\n",
       "Length: 1216, dtype: int64"
      ]
     },
     "execution_count": 12,
     "metadata": {},
     "output_type": "execute_result"
    }
   ],
   "source": [
    "df.isnull().sum()"
   ]
  },
  {
   "cell_type": "code",
   "execution_count": 13,
   "id": "662a0069-cfe9-4f72-8785-6d10550129b1",
   "metadata": {},
   "outputs": [
    {
     "data": {
      "text/plain": [
       "1372"
      ]
     },
     "execution_count": 13,
     "metadata": {},
     "output_type": "execute_result"
    }
   ],
   "source": [
    "(df['bad_flag'] == 1).sum()"
   ]
  },
  {
   "cell_type": "code",
   "execution_count": 14,
   "id": "39a8bbfc-7b8e-4fac-bfda-f9231c5b7081",
   "metadata": {},
   "outputs": [
    {
     "data": {
      "image/png": "[encoded data removed]",
      "text/plain": [
       "<Figure size 800x600 with 1 Axes>"
      ]
     },
     "metadata": {},
     "output_type": "display_data"
    },
    {
     "name": "stdout",
     "output_type": "stream",
     "text": [
      "\n",
      "Target Variable Distribution (%):\n",
      "bad_flag\n",
      "0    98.6\n",
      "1     1.4\n",
      "Name: proportion, dtype: float64\n"
     ]
    }
   ],
   "source": [
    "plt.figure(figsize=(8, 6))\n",
    "sns.countplot(data=df, x='bad_flag')\n",
    "plt.title('Distribution of Target Variable (bad_flag)')\n",
    "plt.show()\n",
    "\n",
    "# Print distribution percentages\n",
    "print(\"\\nTarget Variable Distribution (%):\")\n",
    "print(df['bad_flag'].value_counts(normalize=True).round(3) * 100)"
   ]
  },
  {
   "cell_type": "markdown",
   "id": "f2a208ee-83c3-46ec-84dd-8deceb34b932",
   "metadata": {},
   "source": [
    "# Handling Null Values"
   ]
  },
  {
   "cell_type": "code",
   "execution_count": 15,
   "id": "8ef0f180-3eb5-4ffe-b54e-024ab7196976",
   "metadata": {},
   "outputs": [],
   "source": [
    "def handle_missing_values(df):\n",
    "    # Calculate missing percentages\n",
    "    missing_pct = (df.isnull().sum() / len(df)) * 100\n",
    "    \n",
    "    # Drop columns with > 70% missing values\n",
    "    cols_to_drop = missing_pct[missing_pct > 70].index\n",
    "    df_cleaned = df.drop(columns=cols_to_drop)\n",
    "    \n",
    "    # Fill remaining missing values with median (more robust than mean)\n",
    "    numeric_cols = df_cleaned.select_dtypes(include=['float64', 'int64']).columns\n",
    "    df_cleaned[numeric_cols] = df_cleaned[numeric_cols].fillna(df_cleaned[numeric_cols].median())\n",
    "    \n",
    "    return df_cleaned"
   ]
  },
  {
   "cell_type": "code",
   "execution_count": 16,
   "id": "5768b716-0a0c-42ad-8f19-17a3592ebd00",
   "metadata": {},
   "outputs": [],
   "source": [
    "df_dev_cleaned = handle_missing_values(df)\n",
    "df_val_cleaned = handle_missing_values(df_val)"
   ]
  },
  {
   "cell_type": "code",
   "execution_count": 17,
   "id": "862d3eaa-4ac8-4702-b0f0-c0e42f07c251",
   "metadata": {},
   "outputs": [
    {
     "data": {
      "text/plain": [
       "(96806, 1200)"
      ]
     },
     "execution_count": 17,
     "metadata": {},
     "output_type": "execute_result"
    }
   ],
   "source": [
    "df_dev_cleaned.shape"
   ]
  },
  {
   "cell_type": "code",
   "execution_count": 18,
   "id": "1657f704-1ac5-40ae-9170-0364c334f2bf",
   "metadata": {},
   "outputs": [
    {
     "data": {
      "text/plain": [
       "(41792, 1199)"
      ]
     },
     "execution_count": 18,
     "metadata": {},
     "output_type": "execute_result"
    }
   ],
   "source": [
    "df_val_cleaned.shape"
   ]
  },
  {
   "cell_type": "markdown",
   "id": "91e50a27-1b3e-4ac3-91aa-a0a109ec539e",
   "metadata": {},
   "source": [
    "# Correlation Analysis"
   ]
  },
  {
   "cell_type": "code",
   "execution_count": 19,
   "id": "a9f1580e-c6cf-4784-8313-6f0ba4873044",
   "metadata": {},
   "outputs": [],
   "source": [
    "# # Calculate correlation with target variable only\n",
    "# target_corr = df_dev_cleaned.corr()['bad_flag']\n",
    "# top_features = target_corr.abs().sort_values(ascending=False)[:20].index\n",
    "\n",
    "# # Calculate correlations only for important features\n",
    "# important_corr = df_dev_cleaned[top_features].corr()\n",
    "\n",
    "# # Plot correlation heatmap\n",
    "# plt.figure(figsize=(12, 8))\n",
    "# sns.heatmap(important_corr, annot=True, cmap='coolwarm', fmt='.2f')\n",
    "# plt.title('Correlation Heatmap of Top 20 Features')\n",
    "# plt.tight_layout()\n",
    "# plt.show()"
   ]
  },
  {
   "cell_type": "markdown",
   "id": "b4f0d19f-b9a6-4618-9350-8c6f962ab7bb",
   "metadata": {},
   "source": [
    "# Preparing Data"
   ]
  },
  {
   "cell_type": "code",
   "execution_count": 20,
   "id": "1bae9351-14ae-483b-8c41-1cc9afc0af50",
   "metadata": {},
   "outputs": [],
   "source": [
    "# Prepare features and target\n",
    "X = df_dev_cleaned.drop(['bad_flag', 'account_number'], axis=1)\n",
    "y = df_dev_cleaned['bad_flag']\n",
    "\n",
    "# Split data\n",
    "X_train, X_test, y_train, y_test = train_test_split(X, y, test_size=0.2, random_state=42, stratify=y)\n",
    "\n",
    "# Scale features\n",
    "scaler = StandardScaler()\n",
    "X_train_scaled = scaler.fit_transform(X_train)\n",
    "X_test_scaled = scaler.transform(X_test)"
   ]
  },
  {
   "cell_type": "markdown",
   "id": "bfb8c2af-4fdd-4577-bb89-6d9ea2bb64d5",
   "metadata": {},
   "source": [
    "# Using SMOTE"
   ]
  },
  {
   "cell_type": "code",
   "execution_count": 21,
   "id": "2750ad5c-17ef-47ac-9d87-65fb1861886f",
   "metadata": {},
   "outputs": [
    {
     "name": "stdout",
     "output_type": "stream",
     "text": [
      "\n",
      "Training Logistic Regression...\n",
      "\n",
      "Training Random Forest...\n",
      "\n",
      "Training XGBoost...\n"
     ]
    }
   ],
   "source": [
    "from sklearn.linear_model import LogisticRegression\n",
    "from sklearn.ensemble import RandomForestClassifier\n",
    "from xgboost import XGBClassifier\n",
    "\n",
    "# Apply SMOTE\n",
    "smote = SMOTE(random_state=42)\n",
    "X_train_balanced, y_train_balanced = smote.fit_resample(X_train_scaled, y_train)\n",
    "\n",
    "# Initialize models with balanced class weights\n",
    "models = {\n",
    "    'Logistic Regression': LogisticRegression(class_weight='balanced', max_iter=1000, random_state=42),\n",
    "    'Random Forest': RandomForestClassifier(class_weight='balanced', n_estimators=100, random_state=42),\n",
    "    'XGBoost': XGBClassifier(\n",
    "        scale_pos_weight=96.6/3.4,  # Class weight based on distribution\n",
    "        max_depth=6,\n",
    "        learning_rate=0.1,\n",
    "        random_state=42\n",
    "    )\n",
    "}\n",
    "\n",
    "# Train and evaluate models\n",
    "results = {}\n",
    "for name, model in models.items():\n",
    "    print(f\"\\nTraining {name}...\")\n",
    "    model.fit(X_train_balanced, y_train_balanced)\n",
    "    y_pred = model.predict(X_test_scaled)\n",
    "    y_pred_proba = model.predict_proba(X_test_scaled)[:, 1]\n",
    "    results[name] = {\n",
    "        'predictions': y_pred,\n",
    "        'probabilities': y_pred_proba\n",
    "    }"
   ]
  },
  {
   "cell_type": "markdown",
   "id": "c99f2ebe-2474-497f-ba07-7158b36eef50",
   "metadata": {},
   "source": [
    "# Evaluation"
   ]
  },
  {
   "cell_type": "code",
   "execution_count": 22,
   "id": "7619bd5d-18a3-49fe-bb6c-d921891a2fa1",
   "metadata": {},
   "outputs": [
    {
     "data": {
      "image/png": "[encoded data removed]",
      "text/plain": [
       "<Figure size 1000x600 with 1 Axes>"
      ]
     },
     "metadata": {},
     "output_type": "display_data"
    },
    {
     "name": "stdout",
     "output_type": "stream",
     "text": [
      "\n",
      "Logistic Regression Classification Report:\n",
      "              precision    recall  f1-score   support\n",
      "\n",
      "           0       0.99      0.80      0.88     19088\n",
      "           1       0.04      0.61      0.08       274\n",
      "\n",
      "    accuracy                           0.79     19362\n",
      "   macro avg       0.52      0.70      0.48     19362\n",
      "weighted avg       0.98      0.79      0.87     19362\n",
      "\n",
      "\n",
      "Random Forest Classification Report:\n",
      "              precision    recall  f1-score   support\n",
      "\n",
      "           0       0.99      1.00      0.99     19088\n",
      "           1       0.33      0.00      0.01       274\n",
      "\n",
      "    accuracy                           0.99     19362\n",
      "   macro avg       0.66      0.50      0.50     19362\n",
      "weighted avg       0.98      0.99      0.98     19362\n",
      "\n",
      "\n",
      "XGBoost Classification Report:\n",
      "              precision    recall  f1-score   support\n",
      "\n",
      "           0       0.99      0.91      0.95     19088\n",
      "           1       0.05      0.36      0.09       274\n",
      "\n",
      "    accuracy                           0.90     19362\n",
      "   macro avg       0.52      0.64      0.52     19362\n",
      "weighted avg       0.98      0.90      0.94     19362\n",
      "\n"
     ]
    }
   ],
   "source": [
    "# Plot ROC curves\n",
    "plt.figure(figsize=(10, 6))\n",
    "for name, result in results.items():\n",
    "    fpr, tpr, _ = roc_curve(y_test, result['probabilities'])\n",
    "    roc_auc = auc(fpr, tpr)\n",
    "    plt.plot(fpr, tpr, label=f'{name} (AUC = {roc_auc:.3f})')\n",
    "\n",
    "plt.plot([0, 1], [0, 1], 'k--')\n",
    "plt.xlabel('False Positive Rate')\n",
    "plt.ylabel('True Positive Rate')\n",
    "plt.title('ROC Curves for Different Models')\n",
    "plt.legend()\n",
    "plt.show()\n",
    "\n",
    "# Print classification reports\n",
    "for name, result in results.items():\n",
    "    print(f\"\\n{name} Classification Report:\")\n",
    "    print(classification_report(y_test, result['predictions']))"
   ]
  }
 ],
 "metadata": {
  "kernelspec": {
   "display_name": "Python 3 (ipykernel)",
   "language": "python",
   "name": "python3"
  },
  "language_info": {
   "codemirror_mode": {
    "name": "ipython",
    "version": 3
   },
   "file_extension": ".py",
   "mimetype": "text/x-python",
   "name": "python",
   "nbconvert_exporter": "python",
   "pygments_lexer": "ipython3",
   "version": "3.12.1"
  }
 },
 "nbformat": 4,
 "nbformat_minor": 5
}
